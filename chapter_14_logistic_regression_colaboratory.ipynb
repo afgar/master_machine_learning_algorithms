{
  "nbformat": 4,
  "nbformat_minor": 0,
  "metadata": {
    "colab": {
      "name": "chapter_14_logistic_regression.ipynb",
      "version": "0.3.2",
      "provenance": [],
      "include_colab_link": true
    },
    "kernelspec": {
      "name": "python3",
      "display_name": "Python 3"
    }
  },
  "cells": [
    {
      "cell_type": "markdown",
      "metadata": {
        "id": "view-in-github",
        "colab_type": "text"
      },
      "source": [
        "[View in Colaboratory](https://colab.research.google.com/github/afgar/master_machine_learning_algorithms/blob/master/chapter_14_logistic_regression_colaboratory.ipynb)"
      ]
    },
    {
      "metadata": {
        "id": "MnmK6uTf0yw1",
        "colab_type": "text"
      },
      "cell_type": "markdown",
      "source": [
        "# Capítulo 14. Regresión logística"
      ]
    },
    {
      "metadata": {
        "id": "2GWIz55M0p0a",
        "colab_type": "code",
        "colab": {
          "base_uri": "https://localhost:8080/",
          "height": 265
        },
        "outputId": "191b845b-4edc-4f69-af8e-98dcce3ca753"
      },
      "cell_type": "code",
      "source": [
        "from numpy import array\n",
        "from matplotlib import pyplot\n",
        "\n",
        "#              X1           X2            Y\n",
        "data = array([[2.7810836,   2.550537003,  0],\n",
        "              [1.465489372, 2.362125076,  0],\n",
        "              [3.396561688, 4.400293529,  0],\n",
        "              [1.38807019,  1.850220317,  0],\n",
        "              [3.06407232,  3.005305973,  0],\n",
        "              [7.627531214, 2.759262235,  1],\n",
        "              [5.332441248, 2.088626775,  1],\n",
        "              [6.922596716, 1.77106367,   1],\n",
        "              [8.675418651, -0.242068655, 1],\n",
        "              [7.673756466, 3.508563011,  1]])\n",
        "\n",
        "colors = ['red' if y == 0 else 'green' for y in data[:,2]]\n",
        "\n",
        "pyplot.scatter(data[:,0], data[:,1], color=colors)\n",
        "pyplot.show()"
      ],
      "execution_count": 4,
      "outputs": [
        {
          "output_type": "display_data",
          "data": {
            "image/png": "[encoded data removed]",
            "text/plain": [
              "<matplotlib.figure.Figure at 0x7f0cb3d463c8>"
            ]
          },
          "metadata": {
            "tags": []
          }
        }
      ]
    },
    {
      "metadata": {
        "id": "iiWRRe261Slj",
        "colab_type": "code",
        "colab": {}
      },
      "cell_type": "code",
      "source": [
        "from numpy import sqrt, zeros\n",
        "\n",
        "class LogisticRegression:\n",
        "    \n",
        "    def __init__(self, X):\n",
        "        \"Class to calculate the simple linear regression y = B0 + B1 * x\"\n",
        "        self.x = x\n",
        "        self.y = y\n",
        "        \n",
        "        self.b0 = 0.\n",
        "        self.b1 = 0.\n",
        "        \n",
        "        self.rmse = 0. # Root Mean Squared Error\n",
        "        \n",
        "    def fit(self, alpha, epochs):\n",
        "        '''Fit by Stochastic Gradient Descent'''    \n",
        "        \n",
        "        self.error = zeros(epochs)\n",
        "        \n",
        "        for i in range(epochs):\n",
        "            self.b0, self.b1 = self._epoch(self.b0, self.b1, alpha)\n",
        "            self.predicted_y = self.predict(self.x)\n",
        "            self.error[i] = self._calculate_rmse()\n",
        "        \n",
        "        self.rmse = self.error[-1]\n",
        "            \n",
        "    def _epoch(self, b0, b1, alpha):\n",
        "        for i in range(self.y.size):\n",
        "            prediction = b0 + b1 * self.x[i]\n",
        "            error = prediction - self.y[i]\n",
        "            b0 = b0 - alpha * error\n",
        "            b1 = b1 - alpha * error * self.x[i]\n",
        "            \n",
        "        return (b0, b1)\n",
        "    \n",
        "    def _calculate_rmse(self):\n",
        "        \"Calculate the Root Mean Squared Error or RMSE\"\n",
        "        error = self.predicted_y - self.y # Calculate the error from predicted y\n",
        "        squared_error = error ** 2        # Calculate the squared error\n",
        "        n = y.size                        # n = size of the dataset\n",
        "        \n",
        "        return sqrt(sum(squared_error) / n)\n",
        "    \n",
        "    def predict(self, x):\n",
        "        return x * self.b1 + self.b0"
      ],
      "execution_count": 0,
      "outputs": []
    }
  ]
}