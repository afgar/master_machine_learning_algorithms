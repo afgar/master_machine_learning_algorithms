{
 "cells": [
  {
   "cell_type": "markdown",
   "metadata": {},
   "source": [
    "# Capítulo 14. Regresión logítica\n"
   ]
  },
  {
   "cell_type": "code",
   "execution_count": 1,
   "metadata": {
    "ExecuteTime": {
     "end_time": "2018-09-06T16:53:55.050328Z",
     "start_time": "2018-09-06T16:53:54.758571Z"
    },
    "scrolled": false
   },
   "outputs": [
    {
     "data": {
      "image/png": "[encoded data removed]",
      "text/plain": [
       "<Figure size 460.8x403.2 with 1 Axes>"
      ]
     },
     "metadata": {},
     "output_type": "display_data"
    }
   ],
   "source": [
    "%matplotlib inline\n",
    "\n",
    "from jupyterthemes import jtplot\n",
    "jtplot.style()\n",
    "\n",
    "from numpy import array\n",
    "from matplotlib import pyplot\n",
    "\n",
    "#              X1           X2            Y\n",
    "data = array([[2.7810836,   2.550537003,  0],\n",
    "              [1.465489372, 2.362125076,  0],\n",
    "              [3.396561688, 4.400293529,  0],\n",
    "              [1.38807019,  1.850220317,  0],\n",
    "              [3.06407232,  3.005305973,  0],\n",
    "              [7.627531214, 2.759262235,  1],\n",
    "              [5.332441248, 2.088626775,  1],\n",
    "              [6.922596716, 1.77106367,   1],\n",
    "              [8.675418651, -0.242068655, 1],\n",
    "              [7.673756466, 3.508563011,  1]])\n",
    "\n",
    "colors = ['red' if y == 0 else 'green' for y in data[:, 2]]\n",
    "pyplot.scatter(data[:, 0], data[:, 1], color=colors)\n",
    "pyplot.show()"
   ]
  },
  {
   "cell_type": "code",
   "execution_count": 2,
   "metadata": {
    "ExecuteTime": {
     "end_time": "2018-09-06T16:53:55.099966Z",
     "start_time": "2018-09-06T16:53:55.051975Z"
    }
   },
   "outputs": [],
   "source": [
    "from numpy import sqrt, zeros, ones, reshape, concatenate\n",
    "from scipy.special import expit\n",
    "\n",
    "\n",
    "class LogisticRegression:\n",
    "\n",
    "    def __init__(self, data):\n",
    "        self.X = self._generate_X(data)  # Dataset\n",
    "        self.y = self._generate_y(data)  # Valores objetivo\n",
    "        self.B = zeros(self.X.shape[1])  # Valores a descubir\n",
    "        self.accuracy = 0. \n",
    "\n",
    "    def _generate_X(self, data):\n",
    "        # Filas del dataset\n",
    "        rows = data.shape[0]\n",
    "        # Generamos la primera columna de 1s\n",
    "        x1 = ones(rows)\n",
    "        # Transformamos el vector en una matriz rows x 1\n",
    "        x1 = reshape(x1, (rows, 1))\n",
    "        # Seleccionamos todo el dataset menos la ultima columna y\n",
    "        X = data[:, 0:-1]\n",
    "        # Se añade al principio la columna de 1s\n",
    "        X = concatenate((x1, X), axis=1)\n",
    "        return X\n",
    "\n",
    "    def _generate_y(self, data):\n",
    "        return data[:, -1]\n",
    "\n",
    "    def _epoch(self, alpha):\n",
    "        for i in range(self.X.shape[0]):\n",
    "            y_ = expit(self.X[i].dot(self.B))\n",
    "            y = self.y[i]\n",
    "            x = self.X[i]\n",
    "            self.B = self.B + alpha * (y - y_) * y_ * (1 - y_) * x\n",
    "\n",
    "    def _calculate_accuracy(self):\n",
    "        \"Calculate the accuracy\"\n",
    "        correct_predictions = 0;\n",
    "        total_predictions = self.predicted_y.size\n",
    "        \n",
    "        for i in range(total_predictions):\n",
    "            if self.predicted_y[i] >= 0.5 and self.y[i] == 1:\n",
    "                correct_predictions += 1\n",
    "            elif self.predicted_y[i] < 0.5 and self.y[i] == 0:\n",
    "                correct_predictions += 1\n",
    "\n",
    "        return correct_predictions / total_predictions * 100\n",
    "\n",
    "    def fit(self, alpha, epochs):\n",
    "        '''Fit by Stochastic Gradient Descent'''\n",
    "        self.error = zeros(epochs)\n",
    "        for i in range(epochs):\n",
    "            self._epoch(alpha)\n",
    "            self.predicted_y = self.predict(self.X)\n",
    "            self.error[i] = self._calculate_accuracy()\n",
    "\n",
    "        self.accuracy = self._calculate_accuracy()\n",
    "\n",
    "    def predict(self, x):\n",
    "        return expit(x.dot(self.B))\n",
    "    \n",
    "    def getLine(self):\n",
    "        return expit(x.dot(self.B))"
   ]
  },
  {
   "cell_type": "code",
   "execution_count": 3,
   "metadata": {
    "ExecuteTime": {
     "end_time": "2018-09-06T16:53:55.106871Z",
     "start_time": "2018-09-06T16:53:55.101253Z"
    }
   },
   "outputs": [
    {
     "data": {
      "text/plain": [
       "100.0"
      ]
     },
     "execution_count": 3,
     "metadata": {},
     "output_type": "execute_result"
    }
   ],
   "source": [
    "from scipy.special import expit\n",
    "\n",
    "lr = LogisticRegression(data)\n",
    "lr.fit(0.3, 10)\n",
    "lr.accuracy"
   ]
  },
  {
   "cell_type": "code",
   "execution_count": null,
   "metadata": {},
   "outputs": [],
   "source": [
    "pyplot.scatter(data[:, 0], data[:, 1], color=colors)\n",
    "pyplot.plot(x, slr.predicted_y, color= 'red')\n",
    "pyplot.show()"
   ]
  },
  {
   "cell_type": "code",
   "execution_count": 4,
   "metadata": {
    "ExecuteTime": {
     "end_time": "2018-09-06T16:53:55.179702Z",
     "start_time": "2018-09-06T16:53:55.108269Z"
    }
   },
   "outputs": [
    {
     "data": {
      "image/png": "[encoded data removed]",
      "text/plain": [
       "<Figure size 432x288 with 1 Axes>"
      ]
     },
     "metadata": {},
     "output_type": "display_data"
    }
   ],
   "source": [
    "pyplot.plot(lr.error)\n",
    "pyplot.show()"
   ]
  }
 ],
 "metadata": {
  "kernelspec": {
   "display_name": "Python 3",
   "language": "python",
   "name": "python3"
  },
  "language_info": {
   "codemirror_mode": {
    "name": "ipython",
    "version": 3
   },
   "file_extension": ".py",
   "mimetype": "text/x-python",
   "name": "python",
   "nbconvert_exporter": "python",
   "pygments_lexer": "ipython3",
   "version": "3.6.5"
  },
  "varInspector": {
   "cols": {
    "lenName": 16,
    "lenType": 16,
    "lenVar": 40
   },
   "kernels_config": {
    "python": {
     "delete_cmd_postfix": "",
     "delete_cmd_prefix": "del ",
     "library": "var_list.py",
     "varRefreshCmd": "print(var_dic_list())"
    },
    "r": {
     "delete_cmd_postfix": ") ",
     "delete_cmd_prefix": "rm(",
     "library": "var_list.r",
     "varRefreshCmd": "cat(var_dic_list()) "
    }
   },
   "types_to_exclude": [
    "module",
    "function",
    "builtin_function_or_method",
    "instance",
    "_Feature"
   ],
   "window_display": true
  }
 },
 "nbformat": 4,
 "nbformat_minor": 2
}
