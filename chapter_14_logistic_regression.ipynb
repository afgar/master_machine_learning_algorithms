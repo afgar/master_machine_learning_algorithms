{
 "cells": [
  {
   "cell_type": "markdown",
   "metadata": {},
   "source": [
    "# Capítulo 14. Regresión logítica\n"
   ]
  },
  {
   "cell_type": "code",
   "execution_count": 1,
   "metadata": {},
   "outputs": [
    {
     "data": {
      "image/png": "[encoded data removed]",
      "text/plain": [
       "<Figure size 432x288 with 1 Axes>"
      ]
     },
     "metadata": {},
     "output_type": "display_data"
    }
   ],
   "source": [
    "%matplotlib inline\n",
    "\n",
    "from numpy import array\n",
    "from matplotlib import pyplot\n",
    "\n",
    "#              X1           X2            Y\n",
    "data = array([[2.7810836,   2.550537003,  0],\n",
    "              [1.465489372, 2.362125076,  0],\n",
    "              [3.396561688, 4.400293529,  0],\n",
    "              [1.38807019,  1.850220317,  0],\n",
    "              [3.06407232,  3.005305973,  0],\n",
    "              [7.627531214, 2.759262235,  1],\n",
    "              [5.332441248, 2.088626775,  1],\n",
    "              [6.922596716, 1.77106367,   1],\n",
    "              [8.675418651, -0.242068655, 1],\n",
    "              [7.673756466, 3.508563011,  1]])\n",
    "\n",
    "pyplot.scatter(data[:,0], data[:,1], color=['red' if y == 0 else 'green' for y in data[:,2]])\n",
    "pyplot.show()"
   ]
  },
  {
   "cell_type": "code",
   "execution_count": 2,
   "metadata": {},
   "outputs": [],
   "source": [
    "from numpy import sqrt, zeros\n",
    "\n",
    "class LogisticRegression:\n",
    "    \n",
    "    def __init__(self, X):\n",
    "        \"Class to calculate the simple linear regression y = B0 + B1 * x\"\n",
    "        self.x = x\n",
    "        self.y = y\n",
    "        \n",
    "        self.b0 = 0.\n",
    "        self.b1 = 0.\n",
    "        \n",
    "        self.rmse = 0. # Root Mean Squared Error\n",
    "        \n",
    "    def fit(self, alpha, epochs):\n",
    "        '''Fit by Stochastic Gradient Descent'''    \n",
    "        \n",
    "        self.error = zeros(epochs)\n",
    "        \n",
    "        for i in range(epochs):\n",
    "            self.b0, self.b1 = self._epoch(self.b0, self.b1, alpha)\n",
    "            self.predicted_y = self.predict(self.x)\n",
    "            self.error[i] = self._calculate_rmse()\n",
    "        \n",
    "        self.rmse = self.error[-1]\n",
    "            \n",
    "    def _epoch(self, b0, b1, alpha):\n",
    "        for i in range(self.y.size):\n",
    "            prediction = b0 + b1 * self.x[i]\n",
    "            error = prediction - self.y[i]\n",
    "            b0 = b0 - alpha * error\n",
    "            b1 = b1 - alpha * error * self.x[i]\n",
    "            \n",
    "        return (b0, b1)\n",
    "    \n",
    "    def _calculate_rmse(self):\n",
    "        \"Calculate the Root Mean Squared Error or RMSE\"\n",
    "        error = self.predicted_y - self.y  # Calculate the error from predicted y\n",
    "        squared_error = error ** 2         # Calculate the squared error\n",
    "        n = y.size                         # n = size of the dataset\n",
    "        \n",
    "        return sqrt(sum(squared_error) / n)\n",
    "    \n",
    "    def predict(self, x):\n",
    "        return x * self.b1 + self.b0"
   ]
  }
 ],
 "metadata": {
  "kernelspec": {
   "display_name": "Python 3",
   "language": "python",
   "name": "python3"
  },
  "language_info": {
   "codemirror_mode": {
    "name": "ipython",
    "version": 3
   },
   "file_extension": ".py",
   "mimetype": "text/x-python",
   "name": "python",
   "nbconvert_exporter": "python",
   "pygments_lexer": "ipython3",
   "version": "3.6.5"
  }
 },
 "nbformat": 4,
 "nbformat_minor": 2
}
