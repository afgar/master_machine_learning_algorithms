{
 "cells": [
  {
   "cell_type": "markdown",
   "metadata": {},
   "source": [
    "# Capítulo 12. Regresión linear usando Gradient Descent"
   ]
  },
  {
   "cell_type": "code",
   "execution_count": 1,
   "metadata": {},
   "outputs": [
    {
     "data": {
      "image/png": "[encoded data removed]",
      "text/plain": [
       "<Figure size 432x288 with 1 Axes>"
      ]
     },
     "metadata": {},
     "output_type": "display_data"
    }
   ],
   "source": [
    "%matplotlib inline\n",
    "\n",
    "from numpy import array\n",
    "from matplotlib import pyplot \n",
    "\n",
    "x = array([1, 2, 4, 3, 5])\n",
    "y = array([1, 3, 3, 2, 5])\n",
    "\n",
    "pyplot.scatter(x, y)\n",
    "pyplot.show()"
   ]
  },
  {
   "cell_type": "code",
   "execution_count": 2,
   "metadata": {},
   "outputs": [],
   "source": [
    "from numpy import sqrt, zeros\n",
    "\n",
    "class SimpleLinearRegression:\n",
    "    \n",
    "    def __init__(self, x, y):\n",
    "        \"Class to calculate the simple linear regression y = B0 + B1 * x\"\n",
    "        self.x = x\n",
    "        self.y = y\n",
    "        \n",
    "        self.b0 = 0.\n",
    "        self.b1 = 0.\n",
    "        \n",
    "        self.rmse = 0. # Root Mean Squared Error\n",
    "        \n",
    "    def fit(self, alpha, epochs):\n",
    "        '''Fit by Stochastic Gradient Descent'''    \n",
    "        \n",
    "        self.error = zeros(epochs)\n",
    "        \n",
    "        for i in range(epochs):\n",
    "            self.b0, self.b1 = self._epoch(self.b0, self.b1, alpha)\n",
    "            self.predicted_y = self.predict(self.x)\n",
    "            self.error[i] = self._calculate_rmse()\n",
    "        \n",
    "        self.rmse = self.error[-1]\n",
    "            \n",
    "    def _epoch(self, b0, b1, alpha):\n",
    "        for i in range(self.y.size):\n",
    "            prediction = b0 + b1 * self.x[i]\n",
    "            error = prediction - self.y[i]\n",
    "            b0 = b0 - alpha * error\n",
    "            b1 = b1 - alpha * error * self.x[i]\n",
    "            \n",
    "        return (b0, b1)\n",
    "    \n",
    "    def _calculate_rmse(self):\n",
    "        \"Calculate the Root Mean Squared Error or RMSE\"\n",
    "        error = self.predicted_y - self.y  # Calculate the error from predicted y\n",
    "        squared_error = error ** 2         # Calculate the squared error\n",
    "        n = y.size                         # n = size of the dataset\n",
    "        \n",
    "        return sqrt(sum(squared_error) / n)\n",
    "    \n",
    "    def predict(self, x):\n",
    "        return x * self.b1 + self.b0"
   ]
  },
  {
   "cell_type": "code",
   "execution_count": 3,
   "metadata": {},
   "outputs": [],
   "source": [
    "slr = SimpleLinearRegression(x, y)\n",
    "slr.fit(0.01, 6)"
   ]
  },
  {
   "cell_type": "code",
   "execution_count": 4,
   "metadata": {},
   "outputs": [
    {
     "data": {
      "text/plain": [
       "0.2455792464238922"
      ]
     },
     "execution_count": 4,
     "metadata": {},
     "output_type": "execute_result"
    }
   ],
   "source": [
    "slr.b0"
   ]
  },
  {
   "cell_type": "code",
   "execution_count": 5,
   "metadata": {},
   "outputs": [
    {
     "data": {
      "text/plain": [
       "0.835291176732147"
      ]
     },
     "execution_count": 5,
     "metadata": {},
     "output_type": "execute_result"
    }
   ],
   "source": [
    "slr.b1"
   ]
  },
  {
   "cell_type": "code",
   "execution_count": 6,
   "metadata": {},
   "outputs": [
    {
     "data": {
      "text/plain": [
       "0.6963101085063712"
      ]
     },
     "execution_count": 6,
     "metadata": {},
     "output_type": "execute_result"
    }
   ],
   "source": [
    "slr.rmse"
   ]
  },
  {
   "cell_type": "code",
   "execution_count": 7,
   "metadata": {},
   "outputs": [
    {
     "data": {
      "image/png": "[encoded data removed]",
      "text/plain": [
       "<Figure size 432x288 with 1 Axes>"
      ]
     },
     "metadata": {},
     "output_type": "display_data"
    }
   ],
   "source": [
    "pyplot.scatter(x, y)\n",
    "pyplot.plot(x, slr.predicted_y, color= 'red')\n",
    "pyplot.plot(x, slr.predicted_y + slr.rmse, color= 'blue')\n",
    "pyplot.plot(x, slr.predicted_y - slr.rmse, color= 'blue')\n",
    "pyplot.show()"
   ]
  },
  {
   "cell_type": "code",
   "execution_count": 8,
   "metadata": {},
   "outputs": [
    {
     "data": {
      "image/png": "[encoded data removed]",
      "text/plain": [
       "<Figure size 432x288 with 1 Axes>"
      ]
     },
     "metadata": {},
     "output_type": "display_data"
    }
   ],
   "source": [
    "pyplot.plot(slr.error)\n",
    "pyplot.show()"
   ]
  }
 ],
 "metadata": {
  "kernelspec": {
   "display_name": "Python 3",
   "language": "python",
   "name": "python3"
  },
  "language_info": {
   "codemirror_mode": {
    "name": "ipython",
    "version": 3
   },
   "file_extension": ".py",
   "mimetype": "text/x-python",
   "name": "python",
   "nbconvert_exporter": "python",
   "pygments_lexer": "ipython3",
   "version": "3.6.5"
  }
 },
 "nbformat": 4,
 "nbformat_minor": 2
}
