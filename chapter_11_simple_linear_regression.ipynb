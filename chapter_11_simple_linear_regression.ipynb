{
 "cells": [
  {
   "cell_type": "markdown",
   "metadata": {},
   "source": [
    "# Capítulo 11. Regresión Linear Simple\n"
   ]
  },
  {
   "cell_type": "code",
   "execution_count": 1,
   "metadata": {},
   "outputs": [
    {
     "data": {
      "image/png": "[encoded data removed]",
      "text/plain": [
       "<Figure size 432x288 with 1 Axes>"
      ]
     },
     "metadata": {},
     "output_type": "display_data"
    }
   ],
   "source": [
    "%matplotlib inline\n",
    "\n",
    "from numpy import array\n",
    "from matplotlib import pyplot \n",
    "\n",
    "x = array([1, 2, 4, 3, 5])\n",
    "y = array([1, 3, 3, 2, 5])\n",
    "\n",
    "pyplot.scatter(x, y)\n",
    "pyplot.show()"
   ]
  },
  {
   "cell_type": "code",
   "execution_count": 2,
   "metadata": {},
   "outputs": [],
   "source": [
    "from numpy import corrcoef, std, mean, sqrt\n",
    "\n",
    "class SimpleLinearRegression:\n",
    "    \n",
    "    def __init__(self, x, y):\n",
    "        \"Class to calculate the simple linear regression y = B0 + B1 * x\"\n",
    "        self.b1 = self._calculate_b1(x, y)\n",
    "        self.b0 = self._calculate_b0(x, y)\n",
    "        self.predicted_y = self.predict(x)\n",
    "        self.rmse = self._calculate_rmse(x, y)\n",
    "        \n",
    "    def _calculate_b1(self, x, y):\n",
    "        \"Calculate the slope B1\"\n",
    "        corr_x_y = corrcoef(x, y)[0, 1] # Calculate pearson correlation coeffient\n",
    "        std_x    = std(x)               # Calculate standard deviation x\n",
    "        std_y    = std(y)               # Calculate standard deviation y\n",
    "        \n",
    "        return corr_x_y * std_y / std_x\n",
    "    \n",
    "    def _calculate_b0(self, x, y):\n",
    "        \"Calculate the bias B0\"\n",
    "        mean_x = mean(x) # Calculate mean x\n",
    "        mean_y = mean(y) # Calculate mean y\n",
    "        \n",
    "        return mean_y - self.b1 * mean_x\n",
    "    \n",
    "    def _calculate_rmse(self, x, y):\n",
    "        \"Calculate the Root Mean Squared Error or RMSE\"\n",
    "        error = self.predicted_y - y  # Calculate the error from predicted y\n",
    "        squared_error = error ** 2    # Calculate the squared error\n",
    "        n = y.size                    # n = size of the dataset\n",
    "        \n",
    "        return sqrt(sum(squared_error) / n)\n",
    "    \n",
    "    def predict(self, x):\n",
    "        return x * self.b1 + self.b0"
   ]
  },
  {
   "cell_type": "code",
   "execution_count": 3,
   "metadata": {},
   "outputs": [],
   "source": [
    "slr = SimpleLinearRegression(x, y)"
   ]
  },
  {
   "cell_type": "code",
   "execution_count": 4,
   "metadata": {},
   "outputs": [
    {
     "data": {
      "text/plain": [
       "0.39999999999999947"
      ]
     },
     "execution_count": 4,
     "metadata": {},
     "output_type": "execute_result"
    }
   ],
   "source": [
    "slr.b0"
   ]
  },
  {
   "cell_type": "code",
   "execution_count": 5,
   "metadata": {},
   "outputs": [
    {
     "data": {
      "text/plain": [
       "0.8"
      ]
     },
     "execution_count": 5,
     "metadata": {},
     "output_type": "execute_result"
    }
   ],
   "source": [
    "slr.b1"
   ]
  },
  {
   "cell_type": "code",
   "execution_count": 6,
   "metadata": {},
   "outputs": [
    {
     "data": {
      "text/plain": [
       "0.692820323027551"
      ]
     },
     "execution_count": 6,
     "metadata": {},
     "output_type": "execute_result"
    }
   ],
   "source": [
    "slr.rmse"
   ]
  },
  {
   "cell_type": "code",
   "execution_count": 7,
   "metadata": {},
   "outputs": [
    {
     "data": {
      "image/png": "[encoded data removed]",
      "text/plain": [
       "<Figure size 432x288 with 1 Axes>"
      ]
     },
     "metadata": {},
     "output_type": "display_data"
    }
   ],
   "source": [
    "pyplot.scatter(x, y)\n",
    "pyplot.plot(x, slr.predicted_y, color= 'red')\n",
    "pyplot.plot(x, slr.predicted_y + slr.rmse, color= 'blue')\n",
    "pyplot.plot(x, slr.predicted_y - slr.rmse, color= 'blue')\n",
    "pyplot.show()"
   ]
  }
 ],
 "metadata": {
  "kernelspec": {
   "display_name": "Python 3",
   "language": "python",
   "name": "python3"
  },
  "language_info": {
   "codemirror_mode": {
    "name": "ipython",
    "version": 3
   },
   "file_extension": ".py",
   "mimetype": "text/x-python",
   "name": "python",
   "nbconvert_exporter": "python",
   "pygments_lexer": "ipython3",
   "version": "3.6.5"
  }
 },
 "nbformat": 4,
 "nbformat_minor": 2
}
